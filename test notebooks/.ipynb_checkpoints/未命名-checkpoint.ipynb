{
 "cells": [
  {
   "cell_type": "code",
   "execution_count": 1,
   "metadata": {},
   "outputs": [
    {
     "name": "stderr",
     "output_type": "stream",
     "text": [
      "Execution error (FileNotFoundException) at dataframe.testing/eval3970$loading (REPL:1).\n",
      "Could not locate clojure/data/csv__init.class, clojure/data/csv.clj or clojure/data/csv.cljc on classpath.\n"
     ]
    },
    {
     "ename": "class java.io.FileNotFoundException",
     "evalue": "",
     "output_type": "error",
     "traceback": [
      "    RT.java:   466 clojure.lang.RT/load",
      "   core.clj:  6126 clojure.core$load$fn__6824/invoke",
      "   core.clj:  6125 clojure.core$load/invokeStatic",
      "   core.clj:  6109 clojure.core$load/doInvoke",
      "RestFn.java:   408 clojure.lang.RestFn/invoke",
      "   core.clj:  5908 clojure.core$load_one/invokeStatic",
      "   core.clj:  5903 clojure.core$load_one/invoke",
      "   core.clj:  5948 clojure.core$load_lib$fn__6765/invoke",
      "   core.clj:  5947 clojure.core$load_lib/invokeStatic",
      "   core.clj:  5928 clojure.core$load_lib/doInvoke",
      "RestFn.java:   142 clojure.lang.RestFn/applyTo",
      "   core.clj:   667 clojure.core$apply/invokeStatic",
      "   core.clj:  5985 clojure.core$load_libs/invokeStatic",
      "   core.clj:  5969 clojure.core$load_libs/doInvoke",
      "RestFn.java:   137 clojure.lang.RestFn/applyTo",
      "   core.clj:   667 clojure.core$apply/invokeStatic",
      "   core.clj:  6007 clojure.core$require/invokeStatic",
      "RestFn.java:   436 clojure.lang.RestFn/invoke",
      "   core.clj:  3214 clojure.core$eval/invokeStatic",
      "   core.clj:  3210 clojure.core$eval/invoke",
      "   main.clj:   414 clojure.main$repl$read_eval_print__9068$fn__9071/invoke",
      "   main.clj:   435 clojure.main$repl$fn__9077/invoke",
      "   main.clj:   345 clojure.main$repl/doInvoke",
      "RestFn.java:  1523 clojure.lang.RestFn/invoke",
      "   AFn.java:    22 clojure.lang.AFn/run",
      "   AFn.java:    22 clojure.lang.AFn/run",
      "Thread.java:   832 java.lang.Thread/run"
     ]
    }
   ],
   "source": [
    "(ns dataframe.testing \n",
    "    (:require [dataframe.core :as df]\n",
    "              [clojure.java.io :as io]\n",
    "              [clojure.data.csv :as csv]))"
   ]
  },
  {
   "cell_type": "code",
   "execution_count": 3,
   "metadata": {},
   "outputs": [
    {
     "data": {
      "text/plain": [
       "#'dataframe.testing/srs"
      ]
     },
     "execution_count": 3,
     "metadata": {},
     "output_type": "execute_result"
    }
   ],
   "source": [
    "(def srs (df/series [1 2 3] [:a :b :c]))"
   ]
  },
  {
   "cell_type": "code",
   "execution_count": 4,
   "metadata": {},
   "outputs": [
    {
     "data": {
      "text/plain": [
       "class dataframe.series.Series\n",
       ":a 1\n",
       ":b 2\n",
       ":c 3"
      ]
     },
     "execution_count": 4,
     "metadata": {},
     "output_type": "execute_result"
    }
   ],
   "source": [
    "srs"
   ]
  },
  {
   "cell_type": "code",
   "execution_count": 7,
   "metadata": {},
   "outputs": [
    {
     "data": {
      "text/plain": [
       "#'dataframe.testing/frame"
      ]
     },
     "execution_count": 7,
     "metadata": {},
     "output_type": "execute_result"
    }
   ],
   "source": [
    "(def frame (df/frame {:a [1 2 3] :b [10 20 30]} ))"
   ]
  },
  {
   "cell_type": "code",
   "execution_count": 8,
   "metadata": {},
   "outputs": [
    {
     "data": {
      "text/plain": [
       "class dataframe.frame.Frame\n",
       "  :a :b \n",
       "0  1 10 \n",
       "1  2 20 \n",
       "2  3 30 \n"
      ]
     },
     "execution_count": 8,
     "metadata": {},
     "output_type": "execute_result"
    }
   ],
   "source": [
    "frame"
   ]
  },
  {
   "cell_type": "code",
   "execution_count": null,
   "metadata": {},
   "outputs": [],
   "source": [
    "(def )"
   ]
  }
 ],
 "metadata": {
  "kernelspec": {
   "display_name": "Clojure (dataframe)",
   "language": "clojure",
   "name": "dataframe"
  },
  "language_info": {
   "file_extension": ".clj",
   "mimetype": "text/x-clojure",
   "name": "clojure",
   "version": "1.10.0"
  }
 },
 "nbformat": 4,
 "nbformat_minor": 4
}
